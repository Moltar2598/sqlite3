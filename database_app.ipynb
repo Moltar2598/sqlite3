{
 "cells": [
  {
   "cell_type": "markdown",
   "metadata": {},
   "source": [
    "Imports our python file sqlite_tute."
   ]
  },
  {
   "cell_type": "code",
   "execution_count": 1,
   "metadata": {},
   "outputs": [],
   "source": [
    "import sqlite_tute"
   ]
  },
  {
   "cell_type": "markdown",
   "metadata": {},
   "source": [
    "Calling the function show_all() from the module sqlite_tute"
   ]
  },
  {
   "cell_type": "code",
   "execution_count": 5,
   "metadata": {},
   "outputs": [
    {
     "name": "stdout",
     "output_type": "stream",
     "text": [
      "(2, 'Zaki', 'Akhtar', 'zaki@gmail.com')\n",
      "(3, 'Sameer', 'Akhtar', 'sameer@gmail.com')\n",
      "(4, 'Khadija', 'Khatoon', 'khadija@gmail.com')\n",
      "(5, 'Kamil', 'Akhter', 'kamil@gmail.com')\n",
      "(6, 'Talha', 'Akhtar', 'talha@gmail.com')\n",
      "(7, 'Md', 'Junail', 'junaid@gmail.com')\n",
      "(8, 'Md', 'Zafar', 'zafar@gmail.com')\n",
      "(9, 'Md', 'Ashfaque', 'ashfaque@gmail.com')\n"
     ]
    }
   ],
   "source": [
    "sqlite_tute.show_all()"
   ]
  },
  {
   "cell_type": "markdown",
   "metadata": {},
   "source": [
    "Calling the function add_one() from the module splite_tute"
   ]
  },
  {
   "cell_type": "code",
   "execution_count": 4,
   "metadata": {},
   "outputs": [],
   "source": [
    "first ='Md'\n",
    "last = 'Ashfaque'\n",
    "email = 'ashfaque@gmail.com'\n",
    "sqlite_tute.add_one(first,last,email)"
   ]
  },
  {
   "cell_type": "markdown",
   "metadata": {},
   "source": [
    "Calling the function delet_one() from the module sqlite_tute."
   ]
  },
  {
   "cell_type": "markdown",
   "metadata": {},
   "source": [
    "Delete record use row id as string."
   ]
  },
  {
   "cell_type": "code",
   "execution_count": 8,
   "metadata": {},
   "outputs": [],
   "source": [
    "sqlite_tute.delete_one('7')"
   ]
  },
  {
   "cell_type": "code",
   "execution_count": 9,
   "metadata": {},
   "outputs": [
    {
     "name": "stdout",
     "output_type": "stream",
     "text": [
      "(2, 'Zaki', 'Akhtar', 'zaki@gmail.com')\n",
      "(3, 'Sameer', 'Akhtar', 'sameer@gmail.com')\n",
      "(4, 'Khadija', 'Khatoon', 'khadija@gmail.com')\n",
      "(5, 'Kamil', 'Akhter', 'kamil@gmail.com')\n",
      "(6, 'Talha', 'Akhtar', 'talha@gmail.com')\n"
     ]
    }
   ],
   "source": [
    "sqlite_tute.show_all()"
   ]
  },
  {
   "cell_type": "markdown",
   "metadata": {},
   "source": [
    "Add a list of records to the table"
   ]
  },
  {
   "cell_type": "code",
   "execution_count": 2,
   "metadata": {},
   "outputs": [],
   "source": [
    "list = [\n",
    "    ('Md','Junail','junaid@gmail.com'),\n",
    "    ('Md','Zafar','zafar@gmail.com')\n",
    "]\n",
    "sqlite_tute.add_many(list)\n"
   ]
  },
  {
   "cell_type": "code",
   "execution_count": 3,
   "metadata": {},
   "outputs": [
    {
     "name": "stdout",
     "output_type": "stream",
     "text": [
      "(2, 'Zaki', 'Akhtar', 'zaki@gmail.com')\n",
      "(3, 'Sameer', 'Akhtar', 'sameer@gmail.com')\n",
      "(4, 'Khadija', 'Khatoon', 'khadija@gmail.com')\n",
      "(5, 'Kamil', 'Akhter', 'kamil@gmail.com')\n",
      "(6, 'Talha', 'Akhtar', 'talha@gmail.com')\n",
      "(7, 'Md', 'Junail', 'junaid@gmail.com')\n",
      "(8, 'Md', 'Zafar', 'zafar@gmail.com')\n"
     ]
    }
   ],
   "source": [
    "sqlite_tute.show_all()"
   ]
  },
  {
   "cell_type": "markdown",
   "metadata": {},
   "source": [
    "WHERE clause function"
   ]
  },
  {
   "cell_type": "code",
   "execution_count": 2,
   "metadata": {},
   "outputs": [
    {
     "name": "stdout",
     "output_type": "stream",
     "text": [
      "(7, 'Md', 'Junail', 'junaid@gmail.com')\n"
     ]
    }
   ],
   "source": [
    "sqlite_tute.email_lookup('junaid@gmail.com')"
   ]
  }
 ],
 "metadata": {
  "interpreter": {
   "hash": "c99a520a13db95d7256f2c15c3d7bcce29de16a70a0824cf053c81b466455a91"
  },
  "kernelspec": {
   "display_name": "Python 3.9.1 64-bit",
   "language": "python",
   "name": "python3"
  },
  "language_info": {
   "codemirror_mode": {
    "name": "ipython",
    "version": 3
   },
   "file_extension": ".py",
   "mimetype": "text/x-python",
   "name": "python",
   "nbconvert_exporter": "python",
   "pygments_lexer": "ipython3",
   "version": "3.9.1"
  },
  "orig_nbformat": 4
 },
 "nbformat": 4,
 "nbformat_minor": 2
}
