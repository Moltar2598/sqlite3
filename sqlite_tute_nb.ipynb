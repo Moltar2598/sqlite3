{
 "cells": [
  {
   "cell_type": "markdown",
   "metadata": {},
   "source": [
    "Import sqlite3"
   ]
  },
  {
   "cell_type": "code",
   "execution_count": 3,
   "metadata": {},
   "outputs": [],
   "source": [
    "import sqlite3\n"
   ]
  },
  {
   "cell_type": "markdown",
   "metadata": {},
   "source": [
    "Create a table"
   ]
  },
  {
   "cell_type": "code",
   "execution_count": 4,
   "metadata": {},
   "outputs": [],
   "source": [
    "con = sqlite3.connect('customor.db')\n",
    "c = con.cursor()\n",
    "c.execute('''CREATE TABLE customers(\n",
    "    first_name  text,\n",
    "    last_name   text,\n",
    "    email   text\n",
    ")''')\n",
    "\n",
    "\n",
    "con.commit()\n",
    "con.close()"
   ]
  },
  {
   "cell_type": "markdown",
   "metadata": {},
   "source": [
    "Query the table and return all records."
   ]
  },
  {
   "cell_type": "code",
   "execution_count": null,
   "metadata": {},
   "outputs": [],
   "source": [
    "def show_all():\n",
    "    '''#Connect to database\n",
    "    con = sqlite3.connect('customor.db')  \n",
    "\n",
    "    #Create a cursor\n",
    "    c = con.cursor()'''\n",
    "    #Query the database\n",
    "    c.execute(\"\"\"SELECT rowid, * FROM customers\"\"\")\n",
    "    items = c.fetchall()\n",
    "\n",
    "    for i in items:\n",
    "        print(i)\n",
    "\n",
    "    # Commit our command\n",
    "    con.commit()\n",
    "\n",
    "    #Close our connection\n",
    "    con.close()"
   ]
  },
  {
   "cell_type": "markdown",
   "metadata": {},
   "source": [
    "Insert a records in the table"
   ]
  },
  {
   "cell_type": "code",
   "execution_count": 41,
   "metadata": {},
   "outputs": [],
   "source": [
    "con = sqlite3.connect('customor.db')\n",
    "c = con.cursor()\n",
    "c.execute('''INSERT INTO customers VALUES('Talha','Akhtar','talha@gmail.com')''')\n",
    "con.commit()\n",
    "con.close()"
   ]
  },
  {
   "cell_type": "markdown",
   "metadata": {},
   "source": [
    "Insert multiple records in the table"
   ]
  },
  {
   "cell_type": "code",
   "execution_count": 8,
   "metadata": {},
   "outputs": [],
   "source": [
    "con = sqlite3.connect('customor.db')\n",
    "c = con.cursor()\n",
    "many_customers=[\n",
    "    ('Zaki','Akhtar','zaki@gmail.com'),\n",
    "    ('Sameer','Akhtar','sameer@gmail.com'),\n",
    "    ('Khadija','Khatoon','khadija@gmail.com'),\n",
    "]\n",
    "c.executemany('''INSERT INTO customers VALUES(?,?,?)''',many_customers)\n",
    "con.commit()\n",
    "con.close()"
   ]
  },
  {
   "cell_type": "markdown",
   "metadata": {},
   "source": [
    "Retreive all data from the table"
   ]
  },
  {
   "cell_type": "code",
   "execution_count": 26,
   "metadata": {},
   "outputs": [
    {
     "name": "stdout",
     "output_type": "stream",
     "text": [
      "('Talha', 'Akhtar', 'talha@gmail.com')\n",
      "('Zaki', 'Akhtar', 'zaki@gmail.com')\n",
      "('Sameer', 'Akhtar', 'sameer@gmail.com')\n",
      "('Khadija', 'Khatoon', 'khadija@gmail.com')\n",
      "('Kamil', 'Akhter', 'kamil@gmail.com')\n"
     ]
    }
   ],
   "source": [
    "con = sqlite3.connect('customor.db')\n",
    "c = con.cursor()\n",
    "c.execute(\"SELECT * FROM customers\")\n",
    "items = c.fetchall()\n",
    "for i in items:\n",
    "    print(i)\n",
    "con.commit()\n",
    "con.close()"
   ]
  },
  {
   "cell_type": "markdown",
   "metadata": {},
   "source": [
    "Retreive one row from the table"
   ]
  },
  {
   "cell_type": "code",
   "execution_count": 16,
   "metadata": {},
   "outputs": [
    {
     "name": "stdout",
     "output_type": "stream",
     "text": [
      "('Talha', 'Akhtar', 'talha@gmail.com')\n"
     ]
    }
   ],
   "source": [
    "con = sqlite3.connect('customor.db')\n",
    "c = con.cursor()\n",
    "c.execute(\"SELECT * FROM customers\")\n",
    "item = c.fetchone()\n",
    "print(item)\n",
    "con.commit()\n",
    "con.close()"
   ]
  },
  {
   "cell_type": "markdown",
   "metadata": {},
   "source": [
    "Retreive many rows from the table"
   ]
  },
  {
   "cell_type": "code",
   "execution_count": 18,
   "metadata": {},
   "outputs": [
    {
     "name": "stdout",
     "output_type": "stream",
     "text": [
      "('Talha', 'Akhtar', 'talha@gmail.com')\n",
      "('Zaki', 'Akhtar', 'zaki@gmail.com')\n",
      "('Sameer', 'Akhtar', 'sameer@gmail.com')\n"
     ]
    }
   ],
   "source": [
    "con = sqlite3.connect('customor.db')\n",
    "c = con.cursor()\n",
    "c.execute(\"SELECT * FROM customers\")\n",
    "items = c.fetchmany(3)\n",
    "for i in items:\n",
    "    print(i)\n",
    "con.commit()\n",
    "con.close()"
   ]
  },
  {
   "cell_type": "markdown",
   "metadata": {},
   "source": [
    "Formatting the name and email"
   ]
  },
  {
   "cell_type": "code",
   "execution_count": 29,
   "metadata": {},
   "outputs": [
    {
     "name": "stdout",
     "output_type": "stream",
     "text": [
      "Name    \temail\n",
      "--------\t--------\n",
      "Talha Akhtar\ttalha@gmail.com\n",
      "Zaki Akhtar\tzaki@gmail.com\n",
      "Sameer Akhtar\tsameer@gmail.com\n",
      "Khadija Khatoon\tkhadija@gmail.com\n",
      "Kamil Akhter\tkamil@gmail.com\n"
     ]
    }
   ],
   "source": [
    "con = sqlite3.connect('customor.db')\n",
    "c = con.cursor()\n",
    "c.execute(\"SELECT * FROM customers\")\n",
    "items = c.fetchmany(5)\n",
    "print('Name    '+'\\t'+'email')\n",
    "print('--------'+'\\t'+'--------')\n",
    "for i in items:\n",
    "    print(i[0]+' '+i[1]+'\\t'+i[2])\n",
    "con.commit()\n",
    "con.close()"
   ]
  },
  {
   "cell_type": "markdown",
   "metadata": {},
   "source": [
    "Creating a primary key using rowid"
   ]
  },
  {
   "cell_type": "code",
   "execution_count": 27,
   "metadata": {},
   "outputs": [
    {
     "name": "stdout",
     "output_type": "stream",
     "text": [
      "(1, 'Talha', 'Akhtar', 'talha@gmail.com')\n",
      "(2, 'Zaki', 'Akhtar', 'zaki@gmail.com')\n",
      "(3, 'Sameer', 'Akhtar', 'sameer@gmail.com')\n",
      "(4, 'Khadija', 'Khatoon', 'khadija@gmail.com')\n",
      "(5, 'Kamil', 'Akhter', 'kamil@gmail.com')\n"
     ]
    }
   ],
   "source": [
    "con = sqlite3.connect('customor.db')\n",
    "c = con.cursor()\n",
    "c.execute(\"SELECT rowid, * FROM customers\")\n",
    "items = c.fetchall()\n",
    "for i in items:\n",
    "    print(i)\n",
    "con.commit()\n",
    "con.close()"
   ]
  },
  {
   "cell_type": "markdown",
   "metadata": {},
   "source": [
    "Retreiving the data from the database using 'WHERE' clause"
   ]
  },
  {
   "cell_type": "code",
   "execution_count": 30,
   "metadata": {},
   "outputs": [
    {
     "name": "stdout",
     "output_type": "stream",
     "text": [
      "(1, 'Talha', 'Akhtar', 'talha@gmail.com')\n",
      "(2, 'Zaki', 'Akhtar', 'zaki@gmail.com')\n",
      "(3, 'Sameer', 'Akhtar', 'sameer@gmail.com')\n"
     ]
    }
   ],
   "source": [
    "con = sqlite3.connect('customor.db')\n",
    "c = con.cursor()\n",
    "c.execute(\"SELECT rowid, * FROM customers WHERE last_name LIKE '%ar'\")\n",
    "items = c.fetchall()\n",
    "for i in items:\n",
    "    print(i)\n",
    "con.close()"
   ]
  },
  {
   "cell_type": "markdown",
   "metadata": {},
   "source": [
    "Update database"
   ]
  },
  {
   "cell_type": "code",
   "execution_count": 33,
   "metadata": {},
   "outputs": [
    {
     "name": "stdout",
     "output_type": "stream",
     "text": [
      "(1, 'Talha', 'Akhtar', 'talha@gmail.com')\n",
      "(2, 'Zaki', 'Akhtar', 'zaki@gmail.com')\n",
      "(3, 'Sameer', 'Akhtar', 'sameer@gmail.com')\n",
      "(4, 'Khadija', 'Khatoon', 'khadija@gmail.com')\n",
      "(5, 'Kamil', 'Akhtar', 'kamil@gmail.com')\n"
     ]
    }
   ],
   "source": [
    "con = sqlite3.connect('customor.db')\n",
    "c = con.cursor()\n",
    "c.execute('''UPDATE customers SET  \n",
    "             last_name = \"Akhtar\" \n",
    "             WHERE first_name = \"Kamil\"''')\n",
    "c.execute(\"SELECT rowid, * FROM customers \")\n",
    "items = c.fetchall()\n",
    "for i in items:\n",
    "    print(i)\n",
    "\n",
    "con.close()"
   ]
  },
  {
   "cell_type": "markdown",
   "metadata": {},
   "source": [
    "DELETE a record"
   ]
  },
  {
   "cell_type": "code",
   "execution_count": 36,
   "metadata": {},
   "outputs": [],
   "source": [
    "con = sqlite3.connect('customor.db')\n",
    "c = con.cursor()\n",
    "c.execute('''DELETE FROM customers WHERE rowid = 1''')\n",
    "con.commit()"
   ]
  },
  {
   "cell_type": "code",
   "execution_count": 37,
   "metadata": {},
   "outputs": [
    {
     "name": "stdout",
     "output_type": "stream",
     "text": [
      "(2, 'Zaki', 'Akhtar', 'zaki@gmail.com')\n",
      "(3, 'Sameer', 'Akhtar', 'sameer@gmail.com')\n",
      "(4, 'Khadija', 'Khatoon', 'khadija@gmail.com')\n",
      "(5, 'Kamil', 'Akhter', 'kamil@gmail.com')\n"
     ]
    }
   ],
   "source": [
    "c.execute(\"SELECT rowid, * FROM customers \")\n",
    "items = c.fetchall()\n",
    "for i in items:\n",
    "    print(i)\n",
    "\n",
    "con.close()"
   ]
  },
  {
   "cell_type": "markdown",
   "metadata": {},
   "source": [
    "Order results"
   ]
  },
  {
   "cell_type": "code",
   "execution_count": 42,
   "metadata": {},
   "outputs": [
    {
     "name": "stdout",
     "output_type": "stream",
     "text": [
      "(6, 'Talha', 'Akhtar', 'talha@gmail.com')\n",
      "(5, 'Kamil', 'Akhter', 'kamil@gmail.com')\n",
      "(4, 'Khadija', 'Khatoon', 'khadija@gmail.com')\n",
      "(3, 'Sameer', 'Akhtar', 'sameer@gmail.com')\n",
      "(2, 'Zaki', 'Akhtar', 'zaki@gmail.com')\n"
     ]
    }
   ],
   "source": [
    "con = sqlite3.connect('customor.db')\n",
    "c = con.cursor()\n",
    "c.execute(\"SELECT rowid, * FROM customers ORDER BY rowid DESC\")\n",
    "items = c.fetchall()\n",
    "for i in items:\n",
    "    print(i)\n",
    "\n",
    "con.close()"
   ]
  },
  {
   "cell_type": "markdown",
   "metadata": {},
   "source": [
    "Query the database - AND"
   ]
  },
  {
   "cell_type": "code",
   "execution_count": 44,
   "metadata": {},
   "outputs": [
    {
     "name": "stdout",
     "output_type": "stream",
     "text": [
      "(4, 'Khadija', 'Khatoon', 'khadija@gmail.com')\n"
     ]
    }
   ],
   "source": [
    "con = sqlite3.connect('customor.db')\n",
    "c = con.cursor()\n",
    "c.execute(\"SELECT rowid, * FROM customers WHERE last_name LIKE '%oon' AND first_name LIKE '%dija'\")\n",
    "items = c.fetchall()\n",
    "for i in items:\n",
    "    print(i)\n",
    "\n",
    "con.close()"
   ]
  },
  {
   "cell_type": "markdown",
   "metadata": {},
   "source": [
    "Query the database - OR"
   ]
  },
  {
   "cell_type": "code",
   "execution_count": 45,
   "metadata": {},
   "outputs": [
    {
     "name": "stdout",
     "output_type": "stream",
     "text": [
      "(4, 'Khadija', 'Khatoon', 'khadija@gmail.com')\n",
      "(6, 'Talha', 'Akhtar', 'talha@gmail.com')\n"
     ]
    }
   ],
   "source": [
    "con = sqlite3.connect('customor.db')\n",
    "c = con.cursor()\n",
    "c.execute(\"SELECT rowid, * FROM customers WHERE last_name LIKE '%oon' OR rowid=6\")\n",
    "items = c.fetchall()\n",
    "for i in items:\n",
    "    print(i)\n",
    "\n",
    "con.close()"
   ]
  },
  {
   "cell_type": "markdown",
   "metadata": {},
   "source": [
    "Limiting the records"
   ]
  },
  {
   "cell_type": "code",
   "execution_count": 47,
   "metadata": {},
   "outputs": [
    {
     "name": "stdout",
     "output_type": "stream",
     "text": [
      "(6, 'Talha', 'Akhtar', 'talha@gmail.com')\n"
     ]
    }
   ],
   "source": [
    "con = sqlite3.connect('customor.db')\n",
    "c = con.cursor()\n",
    "c.execute(\"\"\"SELECT rowid, * \n",
    "             FROM customers \n",
    "             WHERE last_name LIKE '%oon' OR rowid=6 \n",
    "             ORDER BY rowid DESC\n",
    "             LIMIT 1\n",
    "             \"\"\")\n",
    "items = c.fetchall()\n",
    "for i in items:\n",
    "    print(i)\n",
    "\n",
    "con.close()"
   ]
  },
  {
   "cell_type": "code",
   "execution_count": 53,
   "metadata": {},
   "outputs": [
    {
     "name": "stdout",
     "output_type": "stream",
     "text": [
      "(4, 'Khadija', 'Khatoon', 'khadija@gmail.com')\n"
     ]
    }
   ],
   "source": [
    "con = sqlite3.connect('customor.db')\n",
    "c = con.cursor()\n",
    "c.execute(\"\"\"SELECT rowid, * \n",
    "             FROM customers \n",
    "             WHERE last_name LIKE '%oon' OR rowid=6 \n",
    "             ORDER BY rowid \n",
    "             LIMIT 1\n",
    "             \"\"\")\n",
    "items = c.fetchall()\n",
    "for i in items:\n",
    "    print(i)\n",
    "\n",
    "con.close()"
   ]
  },
  {
   "cell_type": "markdown",
   "metadata": {},
   "source": [
    "Drop a table"
   ]
  },
  {
   "cell_type": "code",
   "execution_count": 63,
   "metadata": {},
   "outputs": [],
   "source": [
    "con = sqlite3.connect('customor_2.db')\n",
    "c = con.cursor()\n",
    "c.execute('''CREATE TABLE customers(\n",
    "    first_name  text,\n",
    "    last_name   text,\n",
    "    email   text\n",
    ")''')\n",
    "con.commit()\n"
   ]
  },
  {
   "cell_type": "code",
   "execution_count": 64,
   "metadata": {},
   "outputs": [],
   "source": [
    "customer_2_many = [\n",
    "    ('Md','Ashfaque','ashfaque@gmail.com'),\n",
    "    ('Md','Zafar','zafar@gmail.com'),\n",
    "    ('Md','Junaid','junaid@gmail.com')\n",
    "]\n",
    "c.executemany('''INSERT INTO customers VALUES(?,?,?)''',customer_2_many)\n",
    "\n",
    "con.commit()\n"
   ]
  },
  {
   "cell_type": "code",
   "execution_count": 65,
   "metadata": {},
   "outputs": [
    {
     "name": "stdout",
     "output_type": "stream",
     "text": [
      "(1, 'Md', 'Ashfaque', 'ashfaque@gmail.com')\n",
      "(2, 'Md', 'Zafar', 'zafar@gmail.com')\n",
      "(3, 'Md', 'Junaid', 'junaid@gmail.com')\n"
     ]
    }
   ],
   "source": [
    "c.execute(\"\"\"SELECT rowid, * \n",
    "             FROM customers \n",
    "             \n",
    "             \"\"\")\n",
    "items = c.fetchall()\n",
    "for i in items:\n",
    "    print(i)"
   ]
  },
  {
   "cell_type": "code",
   "execution_count": 66,
   "metadata": {},
   "outputs": [],
   "source": [
    "c.execute('''DROP TABLE customers''')\n",
    "con.commit()"
   ]
  },
  {
   "cell_type": "code",
   "execution_count": 67,
   "metadata": {},
   "outputs": [
    {
     "ename": "OperationalError",
     "evalue": "no such table: customers",
     "output_type": "error",
     "traceback": [
      "\u001b[1;31m---------------------------------------------------------------------------\u001b[0m",
      "\u001b[1;31mOperationalError\u001b[0m                          Traceback (most recent call last)",
      "\u001b[1;32m<ipython-input-67-d4a6419c5017>\u001b[0m in \u001b[0;36m<module>\u001b[1;34m\u001b[0m\n\u001b[1;32m----> 1\u001b[1;33m c.execute(\"\"\"SELECT rowid, * \n\u001b[0m\u001b[0;32m      2\u001b[0m              \u001b[0mFROM\u001b[0m \u001b[0mcustomers\u001b[0m\u001b[1;33m\u001b[0m\u001b[1;33m\u001b[0m\u001b[0m\n\u001b[0;32m      3\u001b[0m \u001b[1;33m\u001b[0m\u001b[0m\n\u001b[0;32m      4\u001b[0m              \"\"\")\n\u001b[0;32m      5\u001b[0m \u001b[0mitems\u001b[0m \u001b[1;33m=\u001b[0m \u001b[0mc\u001b[0m\u001b[1;33m.\u001b[0m\u001b[0mfetchall\u001b[0m\u001b[1;33m(\u001b[0m\u001b[1;33m)\u001b[0m\u001b[1;33m\u001b[0m\u001b[1;33m\u001b[0m\u001b[0m\n",
      "\u001b[1;31mOperationalError\u001b[0m: no such table: customers"
     ]
    }
   ],
   "source": [
    "c.execute(\"\"\"SELECT rowid, * \n",
    "             FROM customers \n",
    "             \n",
    "             \"\"\")\n",
    "items = c.fetchall()#check for if the table exists\n",
    "for i in items:\n",
    "    print(i)"
   ]
  },
  {
   "cell_type": "code",
   "execution_count": 68,
   "metadata": {},
   "outputs": [],
   "source": [
    "con.close()"
   ]
  },
  {
   "cell_type": "markdown",
   "metadata": {},
   "source": []
  }
 ],
 "metadata": {
  "interpreter": {
   "hash": "c99a520a13db95d7256f2c15c3d7bcce29de16a70a0824cf053c81b466455a91"
  },
  "kernelspec": {
   "display_name": "Python 3.9.1 64-bit",
   "language": "python",
   "name": "python3"
  },
  "language_info": {
   "codemirror_mode": {
    "name": "ipython",
    "version": 3
   },
   "file_extension": ".py",
   "mimetype": "text/x-python",
   "name": "python",
   "nbconvert_exporter": "python",
   "pygments_lexer": "ipython3",
   "version": "3.9.1"
  },
  "orig_nbformat": 4
 },
 "nbformat": 4,
 "nbformat_minor": 2
}
